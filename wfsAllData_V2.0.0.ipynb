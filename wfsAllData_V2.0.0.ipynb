{
 "cells": [
  {
   "cell_type": "code",
   "execution_count": 11,
   "metadata": {},
   "outputs": [],
   "source": [
    "import requests\n",
    "from tqdm import tqdm\n",
    "import xml.dom.minidom\n",
    "    \n",
    "base_url = \"https://service.gdi-sh.de/SH_INSPIREDOWNLOAD_AI_CP_ALKIS?\" #Schleswig-Holstein\n",
    "layer_name = \"cp:CadastralParcel\"\n",
    "output_path = r\"C:\\DVP_Projects\\data\\resultWfsSchleswig-Holstein.gml\"\n",
    "# total_pages_to_fetch = 49"
   ]
  },
  {
   "cell_type": "code",
   "execution_count": 43,
   "metadata": {},
   "outputs": [
    {
     "name": "stdout",
     "output_type": "stream",
     "text": [
      "10000\n"
     ]
    }
   ],
   "source": [
    "# Get the max batch size for each page\n",
    "request_size = requests.get(base_url , params={\n",
    "    \"service\": \"WFS\",\n",
    "    \"request\": \"getcapabilities\"\n",
    "})\n",
    "request_size_parse = xml.dom.minidom.parseString(request_size.content)\n",
    "constraint_elements = request_size_parse.getElementsByTagName('ows:Constraint')\n",
    "for element in constraint_elements :\n",
    "    if element.getAttribute(\"name\") == \"CountDefault\":\n",
    "        default_value = element.getElementsByTagName(\"ows:DefaultValue\")[0]\n",
    "        batch_size = int(default_value.firstChild.nodeValue)\n",
    "print(batch_size)"
   ]
  },
  {
   "cell_type": "code",
   "execution_count": 13,
   "metadata": {},
   "outputs": [
    {
     "name": "stdout",
     "output_type": "stream",
     "text": [
      "<?xml version=\"1.0\" encoding=\"utf-8\"?>\n",
      "<wfs:FeatureCollection xmlns:wfs=\"http://www.opengis.net/wfs/2.0\" xmlns:xsi=\"http://www.w3.org/2001/XMLSchema-instance\" xsi:schemaLocation=\" http://www.opengis.net/wfs/2.0 http://10.61.159.191/aaa-suite/schema/ogc/wfs/2.0/wfs.xsd\" timeStamp=\"2023-09-13T15:21:47.924+02:00\" numberReturned=\"0\" numberMatched=\"1955198\"/>\n",
      "Total features: 1955198, Total pages: 196\n"
     ]
    }
   ],
   "source": [
    "# Calculate the number of pages for the resquest:\n",
    "request_hits = requests.get(base_url , params={\n",
    "    \"service\": \"WFS\",\n",
    "    \"version\": \"2.0.0\",\n",
    "    \"request\": \"GetFeature\",\n",
    "    \"typeNames\": \"cp:CadastralParcel\",\n",
    "    \"outputFormat\": \"application/gml+xml; version=3.2\",\n",
    "    \"resultType\":\"hits\"\n",
    "})\n",
    "print(request_hits.text)\n",
    "result_parse = xml.dom.minidom.parseString(request_hits.content)\n",
    "result_fc = result_parse.getElementsByTagName(\"wfs:FeatureCollection\")\n",
    "total_hits = int(result_fc[0].getAttribute(\"numberMatched\")) #numberOfFeatures #1.1.0\n",
    "total_pages = (total_hits + batch_size - 1) // batch_size\n",
    "print(f\"Total features: {total_hits}, \" f\"Total pages: {total_pages}\")"
   ]
  },
  {
   "cell_type": "code",
   "execution_count": null,
   "metadata": {},
   "outputs": [],
   "source": [
    "response = requests.get(base_url , params={\n",
    "    \"service\": \"WFS\",\n",
    "    \"version\": \"2.0.0\",\n",
    "    \"request\": \"GetFeature\",\n",
    "    \"typeNames\": \"cp:CadastralParcel\",\n",
    "    \"outputFormat\": \"text/xml; subtype=gml/3.2.1\", #\"application/gml+xml; version=3.2\",\n",
    "    \"srsName\" : \"urn:ogc:def:crs:EPSG::4258\",\n",
    "    \"startIndex\": \"80\",\n",
    "    \"count\" : \"10\"\n",
    "}, stream=False)\n",
    "# print(response.text)\n",
    "result_parse = xml.dom.minidom.parseString(response.content)\n",
    "result_fc = result_parse.getElementsByTagName(\"wfs:FeatureCollection\")\n",
    "print(result_parse.toxml())"
   ]
  },
  {
   "cell_type": "code",
   "execution_count": null,
   "metadata": {},
   "outputs": [],
   "source": [
    "header = response.text.split(\"<wfs:member>\")[0]\n",
    "print(header)"
   ]
  },
  {
   "cell_type": "code",
   "execution_count": null,
   "metadata": {},
   "outputs": [],
   "source": [
    "feature_collections = result_parse.getElementsByTagName(\"wfs:FeatureCollection\")\n",
    "for feature_collection in feature_collections:\n",
    "    # print(f\"feature collection: {feature_collection}\")\n",
    "    # feature_members = feature_collection.childNodes\n",
    "    feature_members = feature_collection.getElementsByTagName(\"wfs:member\")\n",
    "    for feature_member in feature_members:\n",
    "        # output_file.write(feature_member.toxml().encode('utf-8')) # write the element in the outputfile\n",
    "        print(feature_member.toxml())"
   ]
  },
  {
   "cell_type": "markdown",
   "metadata": {},
   "source": [
    "Versão Final:"
   ]
  },
  {
   "cell_type": "code",
   "execution_count": 42,
   "metadata": {},
   "outputs": [],
   "source": [
    "# Open the output file for writing in append mode\n",
    "output_file = open(output_path, \"wb\")\n",
    "\n",
    "# Call GetFeature once to fetch the GML header\n",
    "params1 = {\n",
    "    \"service\": \"WFS\",\n",
    "    \"version\": \"2.0.0\",\n",
    "    \"request\": \"GetFeature\",\n",
    "    \"typeNames\": \"cp:CadastralParcel\",\n",
    "    \"count\":\"1\", #maxFeatures\n",
    "    \"outputFormat\": \"application/gml+xml; version=3.2\"\n",
    "}\n",
    "\n",
    "response_header = requests.get(base_url, params=params1)\n",
    "header = response_header.text.split(\"<wfs:member>\")[0]\n",
    "\n",
    "# Write the header in the opened document:\n",
    "output_file.write(header.encode('utf-8'))\n",
    "\n",
    "# Loop through the pages and fetch only the elements that represent the actual features (exclude each page header)\n",
    "# for page_number in tqdm(range(total_pages), desc =\"Going through pages\"):\n",
    "start_index = 0\n",
    "while start_index < total_hits :\n",
    "    params2 = {\n",
    "        \"service\": \"WFS\",\n",
    "        \"version\": \"2.0.0\",\n",
    "        \"request\": \"GetFeature\",\n",
    "        \"typeNames\": layer_name,\n",
    "        \"startIndex\": start_index,\n",
    "        \"count\": batch_size, #maxFeatures\n",
    "        \"outputFormat\": \"application/gml+xml; version=3.2\",\n",
    "}\n",
    "    response = requests.get(base_url, params=params2, stream=True)\n",
    "    root = xml.dom.minidom.parseString(response.content)\n",
    "    start_index += batch_size\n",
    "    \n",
    "    # Find all featureCollection\n",
    "    feature_collections = root.getElementsByTagName(\"wfs:FeatureCollection\")\n",
    "    for feature_collection in feature_collections:\n",
    "        #print(f\"feature collection: {feature_collection}\")\n",
    "        # Find and Append each featureMember element to the output file\n",
    "        feature_members = feature_collection.getElementsByTagName(\"wfs:member\") #feature_collection.childNodes\n",
    "        for feature_member in feature_members:\n",
    "            output_file.write(feature_member.toxml().encode('utf-8')) # write the element in the outputfile\n",
    "            #print(feature_member.toxml(), file=output_file)\n",
    "            \n",
    "# Close the GML file with the closing tag\n",
    "closing_gml = \"\\n</wfs:FeatureCollection>\"\n",
    "output_file.write(closing_gml.encode('utf-8'))\n",
    "\n",
    "# Close the document\n",
    "output_file.close()"
   ]
  }
 ],
 "metadata": {
  "kernelspec": {
   "display_name": "gis_pyenv",
   "language": "python",
   "name": "python3"
  },
  "language_info": {
   "codemirror_mode": {
    "name": "ipython",
    "version": 3
   },
   "file_extension": ".py",
   "mimetype": "text/x-python",
   "name": "python",
   "nbconvert_exporter": "python",
   "pygments_lexer": "ipython3",
   "version": "3.11.5"
  },
  "orig_nbformat": 4
 },
 "nbformat": 4,
 "nbformat_minor": 2
}
