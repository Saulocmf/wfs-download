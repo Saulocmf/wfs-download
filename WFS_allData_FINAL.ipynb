{
 "cells": [
  {
   "cell_type": "code",
   "execution_count": 1,
   "metadata": {},
   "outputs": [],
   "source": [
    "import requests\n",
    "from tqdm import tqdm\n",
    "import xml.dom.minidom\n",
    "    \n",
    "base_url = \"https://inspire-hessen.de/ows/services/org.2.e305d5c1-54e3-4ef4-b0a1-527237ac7bfa_wfs?\"\n",
    "layer_name = \"cp:CadastralParcel\"\n",
    "output_path = r\"C:\\DVP_Projects\\data\\_wfsAllPages.gml\"\n",
    "# total_pages_to_fetch = 50"
   ]
  },
  {
   "cell_type": "code",
   "execution_count": 2,
   "metadata": {},
   "outputs": [
    {
     "name": "stdout",
     "output_type": "stream",
     "text": [
      "10000\n"
     ]
    }
   ],
   "source": [
    "# Get the max batch size for each page\n",
    "request_size = requests.get(base_url , params={\n",
    "    \"service\": \"WFS\",\n",
    "    \"request\": \"getcapabilities\"\n",
    "})\n",
    "request_size_parse = xml.dom.minidom.parseString(request_size.content)\n",
    "constraint_elements = request_size_parse.getElementsByTagName('ows:Constraint')\n",
    "for element in constraint_elements :\n",
    "    if element.getAttribute(\"name\") == \"CountDefault\":\n",
    "        default_value = element.getElementsByTagName(\"ows:DefaultValue\")[0]\n",
    "        batch_size = int(default_value.firstChild.nodeValue)\n",
    "print(batch_size)"
   ]
  },
  {
   "cell_type": "code",
   "execution_count": 3,
   "metadata": {},
   "outputs": [
    {
     "name": "stdout",
     "output_type": "stream",
     "text": [
      "Total features: 4986071, Total pages: 499\n"
     ]
    }
   ],
   "source": [
    "# Calculate the number of pages for the resquest:\n",
    "request_hits = requests.get(base_url , params={\n",
    "    \"service\": \"WFS\",\n",
    "    \"version\": \"1.1.0\",\n",
    "    \"request\": \"GetFeature\",\n",
    "    \"typeName\": \"cp:CadastralParcel\",\n",
    "    \"outputFormat\": \"application/gml+xml; version=3.2\",\n",
    "    \"resultType\":\"hits\"\n",
    "})\n",
    "result_parse = xml.dom.minidom.parseString(request_hits.content)\n",
    "result_fc = result_parse.getElementsByTagName(\"wfs:FeatureCollection\")\n",
    "total_hits = int(result_fc[0].getAttribute(\"numberOfFeatures\"))\n",
    "total_pages = (total_hits + batch_size - 1) // batch_size\n",
    "print(f\"Total features: {total_hits}, \" f\"Total pages: {total_pages}\")"
   ]
  },
  {
   "cell_type": "code",
   "execution_count": 5,
   "metadata": {},
   "outputs": [
    {
     "name": "stderr",
     "output_type": "stream",
     "text": [
      "Going through pages: 100%|██████████| 499/499 [2:51:42<00:00, 20.65s/it]  \n"
     ]
    }
   ],
   "source": [
    "# Open the output file for writing in append mode\n",
    "output_file = open(output_path, \"wb\")\n",
    "\n",
    "# Call GetFeature once to fetch the GML header\n",
    "params1 = {\n",
    "    \"service\": \"WFS\",\n",
    "    \"version\": \"1.1.0\",\n",
    "    \"request\": \"GetFeature\",\n",
    "    \"typeName\": \"cp:CadastralParcel\",\n",
    "    \"outputFormat\": \"application/gml+xml; version=3.2\"\n",
    "}\n",
    "\n",
    "response_header = requests.get(base_url, params=params1)\n",
    "header = response_header.text.split(\"<gml:featureMember>\")[0]\n",
    "\n",
    "# Write the header in the opened document:\n",
    "output_file.write(header.encode('utf-8'))\n",
    "\n",
    "# Loop through the pages and fetch only the elements that represent the actual features (exclude each page header)\n",
    "start_index = 0\n",
    "for page_number in tqdm(range(total_pages), desc =\"Going through pages\"):\n",
    "    ## - to deletion - start_index = page_number * batch_size\n",
    "    params2 = {\n",
    "        \"service\": \"WFS\",\n",
    "        \"version\": \"1.1.0\",\n",
    "        \"request\": \"GetFeature\",\n",
    "        \"typeName\": layer_name,\n",
    "        \"startIndex\": start_index,\n",
    "        \"maxFeatures\": batch_size,\n",
    "        \"outputFormat\": \"application/gml+xml; version=3.2\"\n",
    "    }\n",
    "    response = requests.get(base_url, params=params2, stream=True)\n",
    "    root = xml.dom.minidom.parseString(response.content)\n",
    "    start_index += batch_size +1\n",
    "    \n",
    "    # Find all featureCollection\n",
    "    feature_collections = root.getElementsByTagName(\"gml:FeatureCollection\")\n",
    "    for feature_collection in feature_collections:\n",
    "        #print(f\"feature collection: {feature_collection}\")\n",
    "        # Find and Append each featureMember element to the output file\n",
    "        feature_members = feature_collection.childNodes\n",
    "        for feature_member in feature_members:\n",
    "            output_file.write(feature_member.toxml().encode('utf-8')) # write the element in the outputfile\n",
    "            #print(feature_member.toxml(), file=output_file)\n",
    "                \n",
    "# Close the GML file with the closing tag\n",
    "closing_gml = \"\\n</gml:FeatureCollection>\"\n",
    "output_file.write(closing_gml.encode('utf-8'))\n",
    "\n",
    "# Close the document\n",
    "output_file.close()"
   ]
  }
 ],
 "metadata": {
  "kernelspec": {
   "display_name": "gis_pyenv",
   "language": "python",
   "name": "python3"
  },
  "language_info": {
   "codemirror_mode": {
    "name": "ipython",
    "version": 3
   },
   "file_extension": ".py",
   "mimetype": "text/x-python",
   "name": "python",
   "nbconvert_exporter": "python",
   "pygments_lexer": "ipython3",
   "version": "3.11.5"
  },
  "orig_nbformat": 4
 },
 "nbformat": 4,
 "nbformat_minor": 2
}
